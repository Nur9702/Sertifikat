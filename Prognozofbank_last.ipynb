{
  "metadata": {
    "kernelspec": {
      "language": "python",
      "display_name": "Python 3",
      "name": "python3"
    },
    "language_info": {
      "name": "python",
      "version": "3.10.12",
      "mimetype": "text/x-python",
      "codemirror_mode": {
        "name": "ipython",
        "version": 3
      },
      "pygments_lexer": "ipython3",
      "nbconvert_exporter": "python",
      "file_extension": ".py"
    },
    "kaggle": {
      "accelerator": "none",
      "dataSources": [
        {
          "sourceId": 85304,
          "databundleVersionId": 9625621,
          "sourceType": "competition"
        }
      ],
      "dockerImageVersionId": 30918,
      "isInternetEnabled": false,
      "language": "python",
      "sourceType": "notebook",
      "isGpuEnabled": false
    },
    "colab": {
      "name": "Prognozofbank_last",
      "provenance": [],
      "include_colab_link": true
    }
  },
  "nbformat_minor": 0,
  "nbformat": 4,
  "cells": [
    {
      "cell_type": "markdown",
      "metadata": {
        "id": "view-in-github",
        "colab_type": "text"
      },
      "source": [
        "<a href=\"https://colab.research.google.com/github/Nur9702/Sertifikat/blob/main/Prognozofbank_last.ipynb\" target=\"_parent\"><img src=\"https://colab.research.google.com/assets/colab-badge.svg\" alt=\"Open In Colab\"/></a>"
      ]
    },
    {
      "source": [
        "# IMPORTANT: SOME KAGGLE DATA SOURCES ARE PRIVATE\n",
        "# RUN THIS CELL IN ORDER TO IMPORT YOUR KAGGLE DATA SOURCES.\n",
        "import kagglehub\n",
        "kagglehub.login()\n"
      ],
      "metadata": {
        "id": "YAf5Bk-I7imf"
      },
      "cell_type": "code",
      "outputs": [],
      "execution_count": null
    },
    {
      "source": [
        "# IMPORTANT: RUN THIS CELL IN ORDER TO IMPORT YOUR KAGGLE DATA SOURCES,\n",
        "# THEN FEEL FREE TO DELETE THIS CELL.\n",
        "# NOTE: THIS NOTEBOOK ENVIRONMENT DIFFERS FROM KAGGLE'S PYTHON\n",
        "# ENVIRONMENT SO THERE MAY BE MISSING LIBRARIES USED BY YOUR\n",
        "# NOTEBOOK.\n",
        "\n",
        "binaryclassificationwithabankchurndataset_path = kagglehub.competition_download('binaryclassificationwithabankchurndataset')\n",
        "\n",
        "print('Data source import complete.')\n"
      ],
      "metadata": {
        "id": "v04XR1SA7imk"
      },
      "cell_type": "code",
      "outputs": [],
      "execution_count": null
    },
    {
      "cell_type": "code",
      "source": [
        "# This Python 3 environment comes with many helpful analytics libraries installed\n",
        "# It is defined by the kaggle/python Docker image: https://github.com/kaggle/docker-python\n",
        "# For example, here's several helpful packages to load\n",
        "\n",
        "import numpy as np # linear algebra\n",
        "import pandas as pd # data processing, CSV file I/O (e.g. pd.read_csv)\n",
        "\n",
        "# Input data files are available in the read-only \"../input/\" directory\n",
        "# For example, running this (by clicking run or pressing Shift+Enter) will list all files under the input directory\n",
        "\n",
        "import os\n",
        "for dirname, _, filenames in os.walk('/kaggle/input'):\n",
        "    for filename in filenames:\n",
        "        print(os.path.join(dirname, filename))\n",
        "\n",
        "# You can write up to 20GB to the current directory (/kaggle/working/) that gets preserved as output when you create a version using \"Save & Run All\"\n",
        "# You can also write temporary files to /kaggle/temp/, but they won't be saved outside of the current session"
      ],
      "metadata": {
        "_uuid": "8f2839f25d086af736a60e9eeb907d3b93b6e0e5",
        "_cell_guid": "b1076dfc-b9ad-4769-8c92-a6c4dae69d19",
        "trusted": true,
        "execution": {
          "iopub.status.busy": "2025-03-23T11:56:02.889103Z",
          "iopub.execute_input": "2025-03-23T11:56:02.889524Z",
          "iopub.status.idle": "2025-03-23T11:56:02.898283Z",
          "shell.execute_reply.started": "2025-03-23T11:56:02.88949Z",
          "shell.execute_reply": "2025-03-23T11:56:02.896906Z"
        },
        "id": "IRlYRRcE7imm",
        "outputId": "9085803d-cc39-4175-c380-57dc1d895eca"
      },
      "outputs": [
        {
          "name": "stdout",
          "text": "/kaggle/input/binaryclassificationwithabankchurndataset/sample_submission.csv\n/kaggle/input/binaryclassificationwithabankchurndataset/train.csv\n/kaggle/input/binaryclassificationwithabankchurndataset/test.csv\n",
          "output_type": "stream"
        }
      ],
      "execution_count": null
    },
    {
      "cell_type": "code",
      "source": [
        "!/kaggle/input/binaryclassificationwithabankchurndataset"
      ],
      "metadata": {
        "trusted": true,
        "execution": {
          "iopub.status.busy": "2025-03-23T11:56:02.900019Z",
          "iopub.execute_input": "2025-03-23T11:56:02.900364Z",
          "iopub.status.idle": "2025-03-23T11:56:03.049695Z",
          "shell.execute_reply.started": "2025-03-23T11:56:02.900337Z",
          "shell.execute_reply": "2025-03-23T11:56:03.047982Z"
        },
        "id": "A5feDtii7imo",
        "outputId": "ba418b71-efca-4fe6-af2c-bf6955ac47ab"
      },
      "outputs": [
        {
          "name": "stdout",
          "text": "/bin/bash: line 1: /kaggle/input/binaryclassificationwithabankchurndataset: Is a directory\n",
          "output_type": "stream"
        }
      ],
      "execution_count": null
    },
    {
      "cell_type": "code",
      "source": [
        "!binaryclassificationwithabankchurndataset_path = kagglehub.competition_download('binaryclassificationwithabankchurndataset')"
      ],
      "metadata": {
        "trusted": true,
        "execution": {
          "iopub.status.busy": "2025-03-23T11:56:03.052137Z",
          "iopub.execute_input": "2025-03-23T11:56:03.052451Z",
          "iopub.status.idle": "2025-03-23T11:56:03.185728Z",
          "shell.execute_reply.started": "2025-03-23T11:56:03.052424Z",
          "shell.execute_reply": "2025-03-23T11:56:03.184318Z"
        },
        "id": "oCdhpp2f7imp",
        "outputId": "f66942d6-a91e-454c-de40-f2072739fd6a"
      },
      "outputs": [
        {
          "name": "stdout",
          "text": "/bin/bash: -c: line 1: syntax error near unexpected token `('\n/bin/bash: -c: line 1: `binaryclassificationwithabankchurndataset_path = kagglehub.competition_download('binaryclassificationwithabankchurndataset')'\n",
          "output_type": "stream"
        }
      ],
      "execution_count": null
    },
    {
      "cell_type": "code",
      "source": [
        "import numpy as np\n",
        "import pandas as pd\n",
        "import seaborn as sns\n",
        "from sklearn.model_selection import train_test_split\n",
        "from sklearn import svm\n",
        "from sklearn.metrics import accuracy_score"
      ],
      "metadata": {
        "trusted": true,
        "execution": {
          "iopub.status.busy": "2025-03-23T11:56:03.188157Z",
          "iopub.execute_input": "2025-03-23T11:56:03.188595Z",
          "iopub.status.idle": "2025-03-23T11:56:03.19556Z",
          "shell.execute_reply.started": "2025-03-23T11:56:03.188551Z",
          "shell.execute_reply": "2025-03-23T11:56:03.193622Z"
        },
        "id": "dhM-uyRF7imp"
      },
      "outputs": [],
      "execution_count": null
    },
    {
      "cell_type": "code",
      "source": [
        "train = pd.read_csv('/kaggle/input/binaryclassificationwithabankchurndataset/train.csv', index_col='id')\n",
        "\n",
        "test = pd.read_csv('/kaggle/input/binaryclassificationwithabankchurndataset/test.csv', index_col='id')\n",
        "\n",
        "submission = pd.read_csv('/kaggle/input/binaryclassificationwithabankchurndataset/sample_submission.csv')\n",
        "\n",
        "train.head()"
      ],
      "metadata": {
        "trusted": true,
        "execution": {
          "iopub.status.busy": "2025-03-23T11:56:03.19716Z",
          "iopub.execute_input": "2025-03-23T11:56:03.197891Z",
          "iopub.status.idle": "2025-03-23T11:56:03.3167Z",
          "shell.execute_reply.started": "2025-03-23T11:56:03.197848Z",
          "shell.execute_reply": "2025-03-23T11:56:03.315505Z"
        },
        "id": "eVgOHnTP7imq",
        "outputId": "6c41bbb3-2cd0-42a4-948c-b79ec214e82b"
      },
      "outputs": [
        {
          "execution_count": 200,
          "output_type": "execute_result",
          "data": {
            "text/plain": "    CustomerId         Surname  CreditScore Geography  Gender   Age  Tenure  \\\nid                                                                            \n0   15702656.0           Nwora        567.0    France    Male  33.0     9.0   \n1   15647965.0     Yevdokimova        628.0    France  Female  38.0     3.0   \n2   15798834.0           Ch'iu        635.0    France  Female  29.0     3.0   \n3   15672056.0            Hsia        681.0    France    Male  28.0     6.0   \n4   15759537.0  Okwudilichukwu        587.0    France  Female  27.0     5.0   \n\n    Balance  NumOfProducts  HasCrCard  IsActiveMember  EstimatedSalary  Exited  \nid                                                                              \n0       0.0            2.0        1.0             0.0        156792.89     0.0  \n1       0.0            1.0        1.0             1.0         51987.99     1.0  \n2       0.0            2.0        1.0             1.0        113079.19     0.0  \n3       0.0            2.0        1.0             0.0         14081.64     0.0  \n4       0.0            2.0        1.0             0.0        158958.90     0.0  ",
            "text/html": "<div>\n<style scoped>\n    .dataframe tbody tr th:only-of-type {\n        vertical-align: middle;\n    }\n\n    .dataframe tbody tr th {\n        vertical-align: top;\n    }\n\n    .dataframe thead th {\n        text-align: right;\n    }\n</style>\n<table border=\"1\" class=\"dataframe\">\n  <thead>\n    <tr style=\"text-align: right;\">\n      <th></th>\n      <th>CustomerId</th>\n      <th>Surname</th>\n      <th>CreditScore</th>\n      <th>Geography</th>\n      <th>Gender</th>\n      <th>Age</th>\n      <th>Tenure</th>\n      <th>Balance</th>\n      <th>NumOfProducts</th>\n      <th>HasCrCard</th>\n      <th>IsActiveMember</th>\n      <th>EstimatedSalary</th>\n      <th>Exited</th>\n    </tr>\n    <tr>\n      <th>id</th>\n      <th></th>\n      <th></th>\n      <th></th>\n      <th></th>\n      <th></th>\n      <th></th>\n      <th></th>\n      <th></th>\n      <th></th>\n      <th></th>\n      <th></th>\n      <th></th>\n      <th></th>\n    </tr>\n  </thead>\n  <tbody>\n    <tr>\n      <th>0</th>\n      <td>15702656.0</td>\n      <td>Nwora</td>\n      <td>567.0</td>\n      <td>France</td>\n      <td>Male</td>\n      <td>33.0</td>\n      <td>9.0</td>\n      <td>0.0</td>\n      <td>2.0</td>\n      <td>1.0</td>\n      <td>0.0</td>\n      <td>156792.89</td>\n      <td>0.0</td>\n    </tr>\n    <tr>\n      <th>1</th>\n      <td>15647965.0</td>\n      <td>Yevdokimova</td>\n      <td>628.0</td>\n      <td>France</td>\n      <td>Female</td>\n      <td>38.0</td>\n      <td>3.0</td>\n      <td>0.0</td>\n      <td>1.0</td>\n      <td>1.0</td>\n      <td>1.0</td>\n      <td>51987.99</td>\n      <td>1.0</td>\n    </tr>\n    <tr>\n      <th>2</th>\n      <td>15798834.0</td>\n      <td>Ch'iu</td>\n      <td>635.0</td>\n      <td>France</td>\n      <td>Female</td>\n      <td>29.0</td>\n      <td>3.0</td>\n      <td>0.0</td>\n      <td>2.0</td>\n      <td>1.0</td>\n      <td>1.0</td>\n      <td>113079.19</td>\n      <td>0.0</td>\n    </tr>\n    <tr>\n      <th>3</th>\n      <td>15672056.0</td>\n      <td>Hsia</td>\n      <td>681.0</td>\n      <td>France</td>\n      <td>Male</td>\n      <td>28.0</td>\n      <td>6.0</td>\n      <td>0.0</td>\n      <td>2.0</td>\n      <td>1.0</td>\n      <td>0.0</td>\n      <td>14081.64</td>\n      <td>0.0</td>\n    </tr>\n    <tr>\n      <th>4</th>\n      <td>15759537.0</td>\n      <td>Okwudilichukwu</td>\n      <td>587.0</td>\n      <td>France</td>\n      <td>Female</td>\n      <td>27.0</td>\n      <td>5.0</td>\n      <td>0.0</td>\n      <td>2.0</td>\n      <td>1.0</td>\n      <td>0.0</td>\n      <td>158958.90</td>\n      <td>0.0</td>\n    </tr>\n  </tbody>\n</table>\n</div>"
          },
          "metadata": {}
        }
      ],
      "execution_count": null
    },
    {
      "cell_type": "code",
      "source": [
        "train.isnull().sum()"
      ],
      "metadata": {
        "trusted": true,
        "execution": {
          "iopub.status.busy": "2025-03-23T11:56:03.318097Z",
          "iopub.execute_input": "2025-03-23T11:56:03.318461Z",
          "iopub.status.idle": "2025-03-23T11:56:03.330476Z",
          "shell.execute_reply.started": "2025-03-23T11:56:03.318423Z",
          "shell.execute_reply": "2025-03-23T11:56:03.3294Z"
        },
        "id": "6R0NM_eg7imw",
        "outputId": "c5cab263-fb17-4f09-fe3f-cb717d308d02"
      },
      "outputs": [
        {
          "execution_count": 201,
          "output_type": "execute_result",
          "data": {
            "text/plain": "CustomerId         0\nSurname            0\nCreditScore        0\nGeography          0\nGender             0\nAge                0\nTenure             0\nBalance            0\nNumOfProducts      0\nHasCrCard          0\nIsActiveMember     0\nEstimatedSalary    0\nExited             0\ndtype: int64"
          },
          "metadata": {}
        }
      ],
      "execution_count": null
    },
    {
      "cell_type": "code",
      "source": [
        "train.duplicated().sum() #duplikatlarni tekshiriladi"
      ],
      "metadata": {
        "trusted": true,
        "execution": {
          "iopub.status.busy": "2025-03-23T11:56:03.331526Z",
          "iopub.execute_input": "2025-03-23T11:56:03.331936Z",
          "iopub.status.idle": "2025-03-23T11:56:03.356979Z",
          "shell.execute_reply.started": "2025-03-23T11:56:03.331908Z",
          "shell.execute_reply": "2025-03-23T11:56:03.355821Z"
        },
        "id": "GDl_QaLR7imy",
        "outputId": "73b334a5-2eec-4457-f806-54d16413af80"
      },
      "outputs": [
        {
          "execution_count": 202,
          "output_type": "execute_result",
          "data": {
            "text/plain": "0"
          },
          "metadata": {}
        }
      ],
      "execution_count": null
    },
    {
      "cell_type": "code",
      "source": [
        "train.Geography.value_counts(), #ustunlar sonini va kachestvasini tekshirish\n",
        "#train.Gender.value_counts(),\n",
        "#train.Exited.value_counts()"
      ],
      "metadata": {
        "trusted": true,
        "execution": {
          "iopub.status.busy": "2025-03-23T11:56:03.358049Z",
          "iopub.execute_input": "2025-03-23T11:56:03.358343Z",
          "iopub.status.idle": "2025-03-23T11:56:03.36749Z",
          "shell.execute_reply.started": "2025-03-23T11:56:03.358319Z",
          "shell.execute_reply": "2025-03-23T11:56:03.366384Z"
        },
        "id": "9lkt8Kzc7imz",
        "outputId": "8b181d1d-57bf-4d01-bd9e-70773a8ca63e"
      },
      "outputs": [
        {
          "execution_count": 203,
          "output_type": "execute_result",
          "data": {
            "text/plain": "(Geography\n France     9040\n Spain      3280\n Germany    2680\n Name: count, dtype: int64,)"
          },
          "metadata": {}
        }
      ],
      "execution_count": null
    },
    {
      "cell_type": "code",
      "source": [
        "train.Gender.value_counts(),"
      ],
      "metadata": {
        "trusted": true,
        "execution": {
          "iopub.status.busy": "2025-03-23T11:56:03.372049Z",
          "iopub.execute_input": "2025-03-23T11:56:03.372439Z",
          "iopub.status.idle": "2025-03-23T11:56:03.386929Z",
          "shell.execute_reply.started": "2025-03-23T11:56:03.372398Z",
          "shell.execute_reply": "2025-03-23T11:56:03.385608Z"
        },
        "id": "MWQpMyq87im0",
        "outputId": "ed09c993-53c3-4e16-8505-817ea2f70e5b"
      },
      "outputs": [
        {
          "execution_count": 204,
          "output_type": "execute_result",
          "data": {
            "text/plain": "(Gender\n Male      8478\n Female    6522\n Name: count, dtype: int64,)"
          },
          "metadata": {}
        }
      ],
      "execution_count": null
    },
    {
      "cell_type": "code",
      "source": [
        "test.drop(['CustomerId', 'Surname'], axis=1, inplace=True)\n",
        "train.drop(['CustomerId', 'Surname'], axis=1, inplace=True) #keraksiz ustunlar o'chirildi"
      ],
      "metadata": {
        "trusted": true,
        "execution": {
          "iopub.status.busy": "2025-03-23T11:56:03.389315Z",
          "iopub.execute_input": "2025-03-23T11:56:03.389682Z",
          "iopub.status.idle": "2025-03-23T11:56:03.405653Z",
          "shell.execute_reply.started": "2025-03-23T11:56:03.389654Z",
          "shell.execute_reply": "2025-03-23T11:56:03.404544Z"
        },
        "id": "oX41-RyV7im0"
      },
      "outputs": [],
      "execution_count": null
    },
    {
      "cell_type": "code",
      "source": [
        "train.info()"
      ],
      "metadata": {
        "trusted": true,
        "execution": {
          "iopub.status.busy": "2025-03-23T11:56:03.406786Z",
          "iopub.execute_input": "2025-03-23T11:56:03.407141Z",
          "iopub.status.idle": "2025-03-23T11:56:03.429223Z",
          "shell.execute_reply.started": "2025-03-23T11:56:03.407103Z",
          "shell.execute_reply": "2025-03-23T11:56:03.427864Z"
        },
        "id": "yQzqOnmi7im1",
        "outputId": "a41da879-8cc3-4f73-b801-015a5567abf7"
      },
      "outputs": [
        {
          "name": "stdout",
          "text": "<class 'pandas.core.frame.DataFrame'>\nIndex: 15000 entries, 0 to 14999\nData columns (total 11 columns):\n #   Column           Non-Null Count  Dtype  \n---  ------           --------------  -----  \n 0   CreditScore      15000 non-null  float64\n 1   Geography        15000 non-null  object \n 2   Gender           15000 non-null  object \n 3   Age              15000 non-null  float64\n 4   Tenure           15000 non-null  float64\n 5   Balance          15000 non-null  float64\n 6   NumOfProducts    15000 non-null  float64\n 7   HasCrCard        15000 non-null  float64\n 8   IsActiveMember   15000 non-null  float64\n 9   EstimatedSalary  15000 non-null  float64\n 10  Exited           15000 non-null  float64\ndtypes: float64(9), object(2)\nmemory usage: 1.4+ MB\n",
          "output_type": "stream"
        }
      ],
      "execution_count": null
    },
    {
      "cell_type": "code",
      "source": [
        "test.info()"
      ],
      "metadata": {
        "trusted": true,
        "execution": {
          "iopub.status.busy": "2025-03-23T11:56:03.430521Z",
          "iopub.execute_input": "2025-03-23T11:56:03.430864Z",
          "iopub.status.idle": "2025-03-23T11:56:03.442913Z",
          "shell.execute_reply.started": "2025-03-23T11:56:03.430837Z",
          "shell.execute_reply": "2025-03-23T11:56:03.441857Z"
        },
        "id": "X9AZT9Qq7im1",
        "outputId": "53d79246-9df5-4cd7-88a7-9345e7938251"
      },
      "outputs": [
        {
          "name": "stdout",
          "text": "<class 'pandas.core.frame.DataFrame'>\nIndex: 10000 entries, 15000 to 24999\nData columns (total 10 columns):\n #   Column           Non-Null Count  Dtype  \n---  ------           --------------  -----  \n 0   CreditScore      10000 non-null  float64\n 1   Geography        10000 non-null  object \n 2   Gender           10000 non-null  object \n 3   Age              10000 non-null  float64\n 4   Tenure           10000 non-null  float64\n 5   Balance          10000 non-null  float64\n 6   NumOfProducts    10000 non-null  float64\n 7   HasCrCard        10000 non-null  float64\n 8   IsActiveMember   10000 non-null  float64\n 9   EstimatedSalary  10000 non-null  float64\ndtypes: float64(8), object(2)\nmemory usage: 859.4+ KB\n",
          "output_type": "stream"
        }
      ],
      "execution_count": null
    },
    {
      "cell_type": "code",
      "source": [
        "test.describe()"
      ],
      "metadata": {
        "trusted": true,
        "execution": {
          "iopub.status.busy": "2025-03-23T11:56:03.444302Z",
          "iopub.execute_input": "2025-03-23T11:56:03.444648Z",
          "iopub.status.idle": "2025-03-23T11:56:03.480359Z",
          "shell.execute_reply.started": "2025-03-23T11:56:03.444614Z",
          "shell.execute_reply": "2025-03-23T11:56:03.479164Z"
        },
        "id": "irIk-Sy57im3",
        "outputId": "83190525-3ec3-4df9-a859-6a9bcb1bfd45"
      },
      "outputs": [
        {
          "execution_count": 208,
          "output_type": "execute_result",
          "data": {
            "text/plain": "        CreditScore           Age        Tenure        Balance  NumOfProducts  \\\ncount  10000.000000  10000.000000  10000.000000   10000.000000   10000.000000   \nmean     658.585300     37.756600      5.043300   42336.815284       1.597600   \nstd       72.442214      8.146459      2.797286   59461.091171       0.533763   \nmin      431.000000     18.000000      0.000000       0.000000       1.000000   \n25%      602.000000     32.000000      3.000000       0.000000       1.000000   \n50%      663.000000     37.000000      5.000000       0.000000       2.000000   \n75%      709.000000     42.000000      7.000000  108739.410000       2.000000   \nmax      850.000000     72.000000     10.000000  187841.990000       6.000000   \n\n          HasCrCard  IsActiveMember  EstimatedSalary  \ncount  10000.000000    10000.000000     10000.000000  \nmean       0.779300        0.492800    117522.515842  \nstd        0.414739        0.499973     46036.567342  \nmin        0.000000        0.000000       479.540000  \n25%        1.000000        0.000000     82868.340000  \n50%        1.000000        0.000000    122612.010000  \n75%        1.000000        1.000000    157567.362500  \nmax        1.000000        1.000000    199992.480000  ",
            "text/html": "<div>\n<style scoped>\n    .dataframe tbody tr th:only-of-type {\n        vertical-align: middle;\n    }\n\n    .dataframe tbody tr th {\n        vertical-align: top;\n    }\n\n    .dataframe thead th {\n        text-align: right;\n    }\n</style>\n<table border=\"1\" class=\"dataframe\">\n  <thead>\n    <tr style=\"text-align: right;\">\n      <th></th>\n      <th>CreditScore</th>\n      <th>Age</th>\n      <th>Tenure</th>\n      <th>Balance</th>\n      <th>NumOfProducts</th>\n      <th>HasCrCard</th>\n      <th>IsActiveMember</th>\n      <th>EstimatedSalary</th>\n    </tr>\n  </thead>\n  <tbody>\n    <tr>\n      <th>count</th>\n      <td>10000.000000</td>\n      <td>10000.000000</td>\n      <td>10000.000000</td>\n      <td>10000.000000</td>\n      <td>10000.000000</td>\n      <td>10000.000000</td>\n      <td>10000.000000</td>\n      <td>10000.000000</td>\n    </tr>\n    <tr>\n      <th>mean</th>\n      <td>658.585300</td>\n      <td>37.756600</td>\n      <td>5.043300</td>\n      <td>42336.815284</td>\n      <td>1.597600</td>\n      <td>0.779300</td>\n      <td>0.492800</td>\n      <td>117522.515842</td>\n    </tr>\n    <tr>\n      <th>std</th>\n      <td>72.442214</td>\n      <td>8.146459</td>\n      <td>2.797286</td>\n      <td>59461.091171</td>\n      <td>0.533763</td>\n      <td>0.414739</td>\n      <td>0.499973</td>\n      <td>46036.567342</td>\n    </tr>\n    <tr>\n      <th>min</th>\n      <td>431.000000</td>\n      <td>18.000000</td>\n      <td>0.000000</td>\n      <td>0.000000</td>\n      <td>1.000000</td>\n      <td>0.000000</td>\n      <td>0.000000</td>\n      <td>479.540000</td>\n    </tr>\n    <tr>\n      <th>25%</th>\n      <td>602.000000</td>\n      <td>32.000000</td>\n      <td>3.000000</td>\n      <td>0.000000</td>\n      <td>1.000000</td>\n      <td>1.000000</td>\n      <td>0.000000</td>\n      <td>82868.340000</td>\n    </tr>\n    <tr>\n      <th>50%</th>\n      <td>663.000000</td>\n      <td>37.000000</td>\n      <td>5.000000</td>\n      <td>0.000000</td>\n      <td>2.000000</td>\n      <td>1.000000</td>\n      <td>0.000000</td>\n      <td>122612.010000</td>\n    </tr>\n    <tr>\n      <th>75%</th>\n      <td>709.000000</td>\n      <td>42.000000</td>\n      <td>7.000000</td>\n      <td>108739.410000</td>\n      <td>2.000000</td>\n      <td>1.000000</td>\n      <td>1.000000</td>\n      <td>157567.362500</td>\n    </tr>\n    <tr>\n      <th>max</th>\n      <td>850.000000</td>\n      <td>72.000000</td>\n      <td>10.000000</td>\n      <td>187841.990000</td>\n      <td>6.000000</td>\n      <td>1.000000</td>\n      <td>1.000000</td>\n      <td>199992.480000</td>\n    </tr>\n  </tbody>\n</table>\n</div>"
          },
          "metadata": {}
        }
      ],
      "execution_count": null
    },
    {
      "cell_type": "code",
      "source": [
        "train.describe()"
      ],
      "metadata": {
        "trusted": true,
        "execution": {
          "iopub.status.busy": "2025-03-23T11:56:03.48139Z",
          "iopub.execute_input": "2025-03-23T11:56:03.481801Z",
          "iopub.status.idle": "2025-03-23T11:56:03.518243Z",
          "shell.execute_reply.started": "2025-03-23T11:56:03.481736Z",
          "shell.execute_reply": "2025-03-23T11:56:03.517108Z"
        },
        "id": "-B8QAaEc7im4",
        "outputId": "254858c3-d5b5-4d06-b1fb-22f098b56b4c"
      },
      "outputs": [
        {
          "execution_count": 209,
          "output_type": "execute_result",
          "data": {
            "text/plain": "        CreditScore           Age        Tenure        Balance  NumOfProducts  \\\ncount  15000.000000  15000.000000  15000.000000   15000.000000   15000.000000   \nmean     657.856800     37.710133      5.018667   42338.107539       1.590533   \nstd       72.678739      8.144880      2.787407   59703.047751       0.525822   \nmin      431.000000     18.000000      0.000000       0.000000       1.000000   \n25%      602.000000     32.000000      3.000000       0.000000       1.000000   \n50%      661.000000     37.000000      5.000000       0.000000       2.000000   \n75%      707.000000     42.000000      7.000000  109636.342500       2.000000   \nmax      850.000000     72.000000     10.000000  187911.550000       5.000000   \n\n          HasCrCard  IsActiveMember  EstimatedSalary        Exited  \ncount  15000.000000    15000.000000     15000.000000  15000.000000  \nmean       0.779133        0.496000    116944.059867      0.198467  \nstd        0.414845        0.500001     46047.485455      0.398859  \nmin        0.000000        0.000000        11.580000      0.000000  \n25%        1.000000        0.000000     82644.332500      0.000000  \n50%        1.000000        0.000000    122449.420000      0.000000  \n75%        1.000000        1.000000    155703.022500      0.000000  \nmax        1.000000        1.000000    885120.790000      1.000000  ",
            "text/html": "<div>\n<style scoped>\n    .dataframe tbody tr th:only-of-type {\n        vertical-align: middle;\n    }\n\n    .dataframe tbody tr th {\n        vertical-align: top;\n    }\n\n    .dataframe thead th {\n        text-align: right;\n    }\n</style>\n<table border=\"1\" class=\"dataframe\">\n  <thead>\n    <tr style=\"text-align: right;\">\n      <th></th>\n      <th>CreditScore</th>\n      <th>Age</th>\n      <th>Tenure</th>\n      <th>Balance</th>\n      <th>NumOfProducts</th>\n      <th>HasCrCard</th>\n      <th>IsActiveMember</th>\n      <th>EstimatedSalary</th>\n      <th>Exited</th>\n    </tr>\n  </thead>\n  <tbody>\n    <tr>\n      <th>count</th>\n      <td>15000.000000</td>\n      <td>15000.000000</td>\n      <td>15000.000000</td>\n      <td>15000.000000</td>\n      <td>15000.000000</td>\n      <td>15000.000000</td>\n      <td>15000.000000</td>\n      <td>15000.000000</td>\n      <td>15000.000000</td>\n    </tr>\n    <tr>\n      <th>mean</th>\n      <td>657.856800</td>\n      <td>37.710133</td>\n      <td>5.018667</td>\n      <td>42338.107539</td>\n      <td>1.590533</td>\n      <td>0.779133</td>\n      <td>0.496000</td>\n      <td>116944.059867</td>\n      <td>0.198467</td>\n    </tr>\n    <tr>\n      <th>std</th>\n      <td>72.678739</td>\n      <td>8.144880</td>\n      <td>2.787407</td>\n      <td>59703.047751</td>\n      <td>0.525822</td>\n      <td>0.414845</td>\n      <td>0.500001</td>\n      <td>46047.485455</td>\n      <td>0.398859</td>\n    </tr>\n    <tr>\n      <th>min</th>\n      <td>431.000000</td>\n      <td>18.000000</td>\n      <td>0.000000</td>\n      <td>0.000000</td>\n      <td>1.000000</td>\n      <td>0.000000</td>\n      <td>0.000000</td>\n      <td>11.580000</td>\n      <td>0.000000</td>\n    </tr>\n    <tr>\n      <th>25%</th>\n      <td>602.000000</td>\n      <td>32.000000</td>\n      <td>3.000000</td>\n      <td>0.000000</td>\n      <td>1.000000</td>\n      <td>1.000000</td>\n      <td>0.000000</td>\n      <td>82644.332500</td>\n      <td>0.000000</td>\n    </tr>\n    <tr>\n      <th>50%</th>\n      <td>661.000000</td>\n      <td>37.000000</td>\n      <td>5.000000</td>\n      <td>0.000000</td>\n      <td>2.000000</td>\n      <td>1.000000</td>\n      <td>0.000000</td>\n      <td>122449.420000</td>\n      <td>0.000000</td>\n    </tr>\n    <tr>\n      <th>75%</th>\n      <td>707.000000</td>\n      <td>42.000000</td>\n      <td>7.000000</td>\n      <td>109636.342500</td>\n      <td>2.000000</td>\n      <td>1.000000</td>\n      <td>1.000000</td>\n      <td>155703.022500</td>\n      <td>0.000000</td>\n    </tr>\n    <tr>\n      <th>max</th>\n      <td>850.000000</td>\n      <td>72.000000</td>\n      <td>10.000000</td>\n      <td>187911.550000</td>\n      <td>5.000000</td>\n      <td>1.000000</td>\n      <td>1.000000</td>\n      <td>885120.790000</td>\n      <td>1.000000</td>\n    </tr>\n  </tbody>\n</table>\n</div>"
          },
          "metadata": {}
        }
      ],
      "execution_count": null
    },
    {
      "cell_type": "code",
      "source": [
        "from sklearn.preprocessing import OneHotEncoder, StandardScaler\n",
        "from sklearn.compose import ColumnTransformer"
      ],
      "metadata": {
        "trusted": true,
        "execution": {
          "iopub.status.busy": "2025-03-23T11:56:03.519556Z",
          "iopub.execute_input": "2025-03-23T11:56:03.519959Z",
          "iopub.status.idle": "2025-03-23T11:56:03.525105Z",
          "shell.execute_reply.started": "2025-03-23T11:56:03.519923Z",
          "shell.execute_reply": "2025-03-23T11:56:03.523597Z"
        },
        "id": "zzzd_kfN7im4"
      },
      "outputs": [],
      "execution_count": null
    },
    {
      "cell_type": "code",
      "source": [
        "train\n"
      ],
      "metadata": {
        "trusted": true,
        "execution": {
          "iopub.status.busy": "2025-03-23T11:56:03.526261Z",
          "iopub.execute_input": "2025-03-23T11:56:03.526519Z",
          "iopub.status.idle": "2025-03-23T11:56:03.559719Z",
          "shell.execute_reply.started": "2025-03-23T11:56:03.526496Z",
          "shell.execute_reply": "2025-03-23T11:56:03.558463Z"
        },
        "id": "_jabMru87im4",
        "outputId": "6428706b-c375-4f2d-9ab3-3d6363fe7193"
      },
      "outputs": [
        {
          "execution_count": 211,
          "output_type": "execute_result",
          "data": {
            "text/plain": "       CreditScore Geography  Gender   Age  Tenure    Balance  NumOfProducts  \\\nid                                                                             \n0            567.0    France    Male  33.0     9.0       0.00            2.0   \n1            628.0    France  Female  38.0     3.0       0.00            1.0   \n2            635.0    France  Female  29.0     3.0       0.00            2.0   \n3            681.0    France    Male  28.0     6.0       0.00            2.0   \n4            587.0    France  Female  27.0     5.0       0.00            2.0   \n...            ...       ...     ...   ...     ...        ...            ...   \n14995        581.0    France    Male  35.0     1.0       0.00            2.0   \n14996        806.0   Germany    Male  42.0     1.0  129120.64            2.0   \n14997        620.0    France  Female  29.0     7.0       0.00            2.0   \n14998        622.0   Germany    Male  51.0     6.0  106070.89            3.0   \n14999        543.0    France    Male  36.0     8.0       0.00            1.0   \n\n       HasCrCard  IsActiveMember  EstimatedSalary  Exited  \nid                                                         \n0            1.0             0.0        156792.89     0.0  \n1            1.0             1.0         51987.99     1.0  \n2            1.0             1.0        113079.19     0.0  \n3            1.0             0.0         14081.64     0.0  \n4            1.0             0.0        158958.90     0.0  \n...          ...             ...              ...     ...  \n14995        1.0             0.0        161653.50     0.0  \n14996        1.0             1.0        161642.08     0.0  \n14997        1.0             1.0        161579.85     0.0  \n14998        1.0             0.0        136869.31     1.0  \n14999        1.0             1.0        163568.33     0.0  \n\n[15000 rows x 11 columns]",
            "text/html": "<div>\n<style scoped>\n    .dataframe tbody tr th:only-of-type {\n        vertical-align: middle;\n    }\n\n    .dataframe tbody tr th {\n        vertical-align: top;\n    }\n\n    .dataframe thead th {\n        text-align: right;\n    }\n</style>\n<table border=\"1\" class=\"dataframe\">\n  <thead>\n    <tr style=\"text-align: right;\">\n      <th></th>\n      <th>CreditScore</th>\n      <th>Geography</th>\n      <th>Gender</th>\n      <th>Age</th>\n      <th>Tenure</th>\n      <th>Balance</th>\n      <th>NumOfProducts</th>\n      <th>HasCrCard</th>\n      <th>IsActiveMember</th>\n      <th>EstimatedSalary</th>\n      <th>Exited</th>\n    </tr>\n    <tr>\n      <th>id</th>\n      <th></th>\n      <th></th>\n      <th></th>\n      <th></th>\n      <th></th>\n      <th></th>\n      <th></th>\n      <th></th>\n      <th></th>\n      <th></th>\n      <th></th>\n    </tr>\n  </thead>\n  <tbody>\n    <tr>\n      <th>0</th>\n      <td>567.0</td>\n      <td>France</td>\n      <td>Male</td>\n      <td>33.0</td>\n      <td>9.0</td>\n      <td>0.00</td>\n      <td>2.0</td>\n      <td>1.0</td>\n      <td>0.0</td>\n      <td>156792.89</td>\n      <td>0.0</td>\n    </tr>\n    <tr>\n      <th>1</th>\n      <td>628.0</td>\n      <td>France</td>\n      <td>Female</td>\n      <td>38.0</td>\n      <td>3.0</td>\n      <td>0.00</td>\n      <td>1.0</td>\n      <td>1.0</td>\n      <td>1.0</td>\n      <td>51987.99</td>\n      <td>1.0</td>\n    </tr>\n    <tr>\n      <th>2</th>\n      <td>635.0</td>\n      <td>France</td>\n      <td>Female</td>\n      <td>29.0</td>\n      <td>3.0</td>\n      <td>0.00</td>\n      <td>2.0</td>\n      <td>1.0</td>\n      <td>1.0</td>\n      <td>113079.19</td>\n      <td>0.0</td>\n    </tr>\n    <tr>\n      <th>3</th>\n      <td>681.0</td>\n      <td>France</td>\n      <td>Male</td>\n      <td>28.0</td>\n      <td>6.0</td>\n      <td>0.00</td>\n      <td>2.0</td>\n      <td>1.0</td>\n      <td>0.0</td>\n      <td>14081.64</td>\n      <td>0.0</td>\n    </tr>\n    <tr>\n      <th>4</th>\n      <td>587.0</td>\n      <td>France</td>\n      <td>Female</td>\n      <td>27.0</td>\n      <td>5.0</td>\n      <td>0.00</td>\n      <td>2.0</td>\n      <td>1.0</td>\n      <td>0.0</td>\n      <td>158958.90</td>\n      <td>0.0</td>\n    </tr>\n    <tr>\n      <th>...</th>\n      <td>...</td>\n      <td>...</td>\n      <td>...</td>\n      <td>...</td>\n      <td>...</td>\n      <td>...</td>\n      <td>...</td>\n      <td>...</td>\n      <td>...</td>\n      <td>...</td>\n      <td>...</td>\n    </tr>\n    <tr>\n      <th>14995</th>\n      <td>581.0</td>\n      <td>France</td>\n      <td>Male</td>\n      <td>35.0</td>\n      <td>1.0</td>\n      <td>0.00</td>\n      <td>2.0</td>\n      <td>1.0</td>\n      <td>0.0</td>\n      <td>161653.50</td>\n      <td>0.0</td>\n    </tr>\n    <tr>\n      <th>14996</th>\n      <td>806.0</td>\n      <td>Germany</td>\n      <td>Male</td>\n      <td>42.0</td>\n      <td>1.0</td>\n      <td>129120.64</td>\n      <td>2.0</td>\n      <td>1.0</td>\n      <td>1.0</td>\n      <td>161642.08</td>\n      <td>0.0</td>\n    </tr>\n    <tr>\n      <th>14997</th>\n      <td>620.0</td>\n      <td>France</td>\n      <td>Female</td>\n      <td>29.0</td>\n      <td>7.0</td>\n      <td>0.00</td>\n      <td>2.0</td>\n      <td>1.0</td>\n      <td>1.0</td>\n      <td>161579.85</td>\n      <td>0.0</td>\n    </tr>\n    <tr>\n      <th>14998</th>\n      <td>622.0</td>\n      <td>Germany</td>\n      <td>Male</td>\n      <td>51.0</td>\n      <td>6.0</td>\n      <td>106070.89</td>\n      <td>3.0</td>\n      <td>1.0</td>\n      <td>0.0</td>\n      <td>136869.31</td>\n      <td>1.0</td>\n    </tr>\n    <tr>\n      <th>14999</th>\n      <td>543.0</td>\n      <td>France</td>\n      <td>Male</td>\n      <td>36.0</td>\n      <td>8.0</td>\n      <td>0.00</td>\n      <td>1.0</td>\n      <td>1.0</td>\n      <td>1.0</td>\n      <td>163568.33</td>\n      <td>0.0</td>\n    </tr>\n  </tbody>\n</table>\n<p>15000 rows × 11 columns</p>\n</div>"
          },
          "metadata": {}
        }
      ],
      "execution_count": null
    },
    {
      "cell_type": "code",
      "source": [
        "one_hot = OneHotEncoder(dtype=np.int8, sparse_output=False ) #drop = 'first' ma'lumot kamligi uchun shart emas\n",
        "stan_scal = StandardScaler()\n",
        "col_trans = ColumnTransformer([\n",
        "    ('one_hot', one_hot, ['Geography', 'Gender'])\n",
        "], remainder='passthrough').set_output(transform='pandas')"
      ],
      "metadata": {
        "trusted": true,
        "execution": {
          "iopub.status.busy": "2025-03-23T11:56:03.560983Z",
          "iopub.execute_input": "2025-03-23T11:56:03.561406Z",
          "iopub.status.idle": "2025-03-23T11:56:03.575831Z",
          "shell.execute_reply.started": "2025-03-23T11:56:03.561362Z",
          "shell.execute_reply": "2025-03-23T11:56:03.574273Z"
        },
        "id": "5uxnGXHV7im4"
      },
      "outputs": [],
      "execution_count": null
    },
    {
      "cell_type": "code",
      "source": [
        "col_trans"
      ],
      "metadata": {
        "trusted": true,
        "execution": {
          "iopub.status.busy": "2025-03-23T11:56:03.577116Z",
          "iopub.execute_input": "2025-03-23T11:56:03.577427Z",
          "iopub.status.idle": "2025-03-23T11:56:03.59945Z",
          "shell.execute_reply.started": "2025-03-23T11:56:03.577397Z",
          "shell.execute_reply": "2025-03-23T11:56:03.598205Z"
        },
        "id": "A5Gb6Bgu7im5",
        "outputId": "7e46bc7d-8fbe-470a-8753-806c172f251c"
      },
      "outputs": [
        {
          "execution_count": 213,
          "output_type": "execute_result",
          "data": {
            "text/plain": "ColumnTransformer(remainder='passthrough',\n                  transformers=[('one_hot',\n                                 OneHotEncoder(dtype=<class 'numpy.int8'>,\n                                               sparse_output=False),\n                                 ['Geography', 'Gender'])])",
            "text/html": "<style>#sk-container-id-5 {color: black;background-color: white;}#sk-container-id-5 pre{padding: 0;}#sk-container-id-5 div.sk-toggleable {background-color: white;}#sk-container-id-5 label.sk-toggleable__label {cursor: pointer;display: block;width: 100%;margin-bottom: 0;padding: 0.3em;box-sizing: border-box;text-align: center;}#sk-container-id-5 label.sk-toggleable__label-arrow:before {content: \"▸\";float: left;margin-right: 0.25em;color: #696969;}#sk-container-id-5 label.sk-toggleable__label-arrow:hover:before {color: black;}#sk-container-id-5 div.sk-estimator:hover label.sk-toggleable__label-arrow:before {color: black;}#sk-container-id-5 div.sk-toggleable__content {max-height: 0;max-width: 0;overflow: hidden;text-align: left;background-color: #f0f8ff;}#sk-container-id-5 div.sk-toggleable__content pre {margin: 0.2em;color: black;border-radius: 0.25em;background-color: #f0f8ff;}#sk-container-id-5 input.sk-toggleable__control:checked~div.sk-toggleable__content {max-height: 200px;max-width: 100%;overflow: auto;}#sk-container-id-5 input.sk-toggleable__control:checked~label.sk-toggleable__label-arrow:before {content: \"▾\";}#sk-container-id-5 div.sk-estimator input.sk-toggleable__control:checked~label.sk-toggleable__label {background-color: #d4ebff;}#sk-container-id-5 div.sk-label input.sk-toggleable__control:checked~label.sk-toggleable__label {background-color: #d4ebff;}#sk-container-id-5 input.sk-hidden--visually {border: 0;clip: rect(1px 1px 1px 1px);clip: rect(1px, 1px, 1px, 1px);height: 1px;margin: -1px;overflow: hidden;padding: 0;position: absolute;width: 1px;}#sk-container-id-5 div.sk-estimator {font-family: monospace;background-color: #f0f8ff;border: 1px dotted black;border-radius: 0.25em;box-sizing: border-box;margin-bottom: 0.5em;}#sk-container-id-5 div.sk-estimator:hover {background-color: #d4ebff;}#sk-container-id-5 div.sk-parallel-item::after {content: \"\";width: 100%;border-bottom: 1px solid gray;flex-grow: 1;}#sk-container-id-5 div.sk-label:hover label.sk-toggleable__label {background-color: #d4ebff;}#sk-container-id-5 div.sk-serial::before {content: \"\";position: absolute;border-left: 1px solid gray;box-sizing: border-box;top: 0;bottom: 0;left: 50%;z-index: 0;}#sk-container-id-5 div.sk-serial {display: flex;flex-direction: column;align-items: center;background-color: white;padding-right: 0.2em;padding-left: 0.2em;position: relative;}#sk-container-id-5 div.sk-item {position: relative;z-index: 1;}#sk-container-id-5 div.sk-parallel {display: flex;align-items: stretch;justify-content: center;background-color: white;position: relative;}#sk-container-id-5 div.sk-item::before, #sk-container-id-5 div.sk-parallel-item::before {content: \"\";position: absolute;border-left: 1px solid gray;box-sizing: border-box;top: 0;bottom: 0;left: 50%;z-index: -1;}#sk-container-id-5 div.sk-parallel-item {display: flex;flex-direction: column;z-index: 1;position: relative;background-color: white;}#sk-container-id-5 div.sk-parallel-item:first-child::after {align-self: flex-end;width: 50%;}#sk-container-id-5 div.sk-parallel-item:last-child::after {align-self: flex-start;width: 50%;}#sk-container-id-5 div.sk-parallel-item:only-child::after {width: 0;}#sk-container-id-5 div.sk-dashed-wrapped {border: 1px dashed gray;margin: 0 0.4em 0.5em 0.4em;box-sizing: border-box;padding-bottom: 0.4em;background-color: white;}#sk-container-id-5 div.sk-label label {font-family: monospace;font-weight: bold;display: inline-block;line-height: 1.2em;}#sk-container-id-5 div.sk-label-container {text-align: center;}#sk-container-id-5 div.sk-container {/* jupyter's `normalize.less` sets `[hidden] { display: none; }` but bootstrap.min.css set `[hidden] { display: none !important; }` so we also need the `!important` here to be able to override the default hidden behavior on the sphinx rendered scikit-learn.org. See: https://github.com/scikit-learn/scikit-learn/issues/21755 */display: inline-block !important;position: relative;}#sk-container-id-5 div.sk-text-repr-fallback {display: none;}</style><div id=\"sk-container-id-5\" class=\"sk-top-container\"><div class=\"sk-text-repr-fallback\"><pre>ColumnTransformer(remainder=&#x27;passthrough&#x27;,\n                  transformers=[(&#x27;one_hot&#x27;,\n                                 OneHotEncoder(dtype=&lt;class &#x27;numpy.int8&#x27;&gt;,\n                                               sparse_output=False),\n                                 [&#x27;Geography&#x27;, &#x27;Gender&#x27;])])</pre><b>In a Jupyter environment, please rerun this cell to show the HTML representation or trust the notebook. <br />On GitHub, the HTML representation is unable to render, please try loading this page with nbviewer.org.</b></div><div class=\"sk-container\" hidden><div class=\"sk-item sk-dashed-wrapped\"><div class=\"sk-label-container\"><div class=\"sk-label sk-toggleable\"><input class=\"sk-toggleable__control sk-hidden--visually\" id=\"sk-estimator-id-21\" type=\"checkbox\" ><label for=\"sk-estimator-id-21\" class=\"sk-toggleable__label sk-toggleable__label-arrow\">ColumnTransformer</label><div class=\"sk-toggleable__content\"><pre>ColumnTransformer(remainder=&#x27;passthrough&#x27;,\n                  transformers=[(&#x27;one_hot&#x27;,\n                                 OneHotEncoder(dtype=&lt;class &#x27;numpy.int8&#x27;&gt;,\n                                               sparse_output=False),\n                                 [&#x27;Geography&#x27;, &#x27;Gender&#x27;])])</pre></div></div></div><div class=\"sk-parallel\"><div class=\"sk-parallel-item\"><div class=\"sk-item\"><div class=\"sk-label-container\"><div class=\"sk-label sk-toggleable\"><input class=\"sk-toggleable__control sk-hidden--visually\" id=\"sk-estimator-id-22\" type=\"checkbox\" ><label for=\"sk-estimator-id-22\" class=\"sk-toggleable__label sk-toggleable__label-arrow\">one_hot</label><div class=\"sk-toggleable__content\"><pre>[&#x27;Geography&#x27;, &#x27;Gender&#x27;]</pre></div></div></div><div class=\"sk-serial\"><div class=\"sk-item\"><div class=\"sk-estimator sk-toggleable\"><input class=\"sk-toggleable__control sk-hidden--visually\" id=\"sk-estimator-id-23\" type=\"checkbox\" ><label for=\"sk-estimator-id-23\" class=\"sk-toggleable__label sk-toggleable__label-arrow\">OneHotEncoder</label><div class=\"sk-toggleable__content\"><pre>OneHotEncoder(dtype=&lt;class &#x27;numpy.int8&#x27;&gt;, sparse_output=False)</pre></div></div></div></div></div></div><div class=\"sk-parallel-item\"><div class=\"sk-item\"><div class=\"sk-label-container\"><div class=\"sk-label sk-toggleable\"><input class=\"sk-toggleable__control sk-hidden--visually\" id=\"sk-estimator-id-24\" type=\"checkbox\" ><label for=\"sk-estimator-id-24\" class=\"sk-toggleable__label sk-toggleable__label-arrow\">remainder</label><div class=\"sk-toggleable__content\"><pre></pre></div></div></div><div class=\"sk-serial\"><div class=\"sk-item\"><div class=\"sk-estimator sk-toggleable\"><input class=\"sk-toggleable__control sk-hidden--visually\" id=\"sk-estimator-id-25\" type=\"checkbox\" ><label for=\"sk-estimator-id-25\" class=\"sk-toggleable__label sk-toggleable__label-arrow\">passthrough</label><div class=\"sk-toggleable__content\"><pre>passthrough</pre></div></div></div></div></div></div></div></div></div></div>"
          },
          "metadata": {}
        }
      ],
      "execution_count": null
    },
    {
      "cell_type": "code",
      "source": [
        "trans_df = col_trans.fit_transform(train)\n",
        "test_df = col_trans.fit_transform(test)\n",
        "trans_df"
      ],
      "metadata": {
        "trusted": true,
        "execution": {
          "iopub.status.busy": "2025-03-23T11:56:03.600558Z",
          "iopub.execute_input": "2025-03-23T11:56:03.600884Z",
          "iopub.status.idle": "2025-03-23T11:56:03.662535Z",
          "shell.execute_reply.started": "2025-03-23T11:56:03.600858Z",
          "shell.execute_reply": "2025-03-23T11:56:03.661355Z"
        },
        "id": "hKkgAfgr7im5",
        "outputId": "3fc93b3c-b594-422b-8186-bf2c9b907c25"
      },
      "outputs": [
        {
          "execution_count": 214,
          "output_type": "execute_result",
          "data": {
            "text/plain": "       one_hot__Geography_France  one_hot__Geography_Germany  \\\nid                                                             \n0                              1                           0   \n1                              1                           0   \n2                              1                           0   \n3                              1                           0   \n4                              1                           0   \n...                          ...                         ...   \n14995                          1                           0   \n14996                          0                           1   \n14997                          1                           0   \n14998                          0                           1   \n14999                          1                           0   \n\n       one_hot__Geography_Spain  one_hot__Gender_Female  one_hot__Gender_Male  \\\nid                                                                              \n0                             0                       0                     1   \n1                             0                       1                     0   \n2                             0                       1                     0   \n3                             0                       0                     1   \n4                             0                       1                     0   \n...                         ...                     ...                   ...   \n14995                         0                       0                     1   \n14996                         0                       0                     1   \n14997                         0                       1                     0   \n14998                         0                       0                     1   \n14999                         0                       0                     1   \n\n       remainder__CreditScore  remainder__Age  remainder__Tenure  \\\nid                                                                 \n0                       567.0            33.0                9.0   \n1                       628.0            38.0                3.0   \n2                       635.0            29.0                3.0   \n3                       681.0            28.0                6.0   \n4                       587.0            27.0                5.0   \n...                       ...             ...                ...   \n14995                   581.0            35.0                1.0   \n14996                   806.0            42.0                1.0   \n14997                   620.0            29.0                7.0   \n14998                   622.0            51.0                6.0   \n14999                   543.0            36.0                8.0   \n\n       remainder__Balance  remainder__NumOfProducts  remainder__HasCrCard  \\\nid                                                                          \n0                    0.00                       2.0                   1.0   \n1                    0.00                       1.0                   1.0   \n2                    0.00                       2.0                   1.0   \n3                    0.00                       2.0                   1.0   \n4                    0.00                       2.0                   1.0   \n...                   ...                       ...                   ...   \n14995                0.00                       2.0                   1.0   \n14996           129120.64                       2.0                   1.0   \n14997                0.00                       2.0                   1.0   \n14998           106070.89                       3.0                   1.0   \n14999                0.00                       1.0                   1.0   \n\n       remainder__IsActiveMember  remainder__EstimatedSalary  \\\nid                                                             \n0                            0.0                   156792.89   \n1                            1.0                    51987.99   \n2                            1.0                   113079.19   \n3                            0.0                    14081.64   \n4                            0.0                   158958.90   \n...                          ...                         ...   \n14995                        0.0                   161653.50   \n14996                        1.0                   161642.08   \n14997                        1.0                   161579.85   \n14998                        0.0                   136869.31   \n14999                        1.0                   163568.33   \n\n       remainder__Exited  \nid                        \n0                    0.0  \n1                    1.0  \n2                    0.0  \n3                    0.0  \n4                    0.0  \n...                  ...  \n14995                0.0  \n14996                0.0  \n14997                0.0  \n14998                1.0  \n14999                0.0  \n\n[15000 rows x 14 columns]",
            "text/html": "<div>\n<style scoped>\n    .dataframe tbody tr th:only-of-type {\n        vertical-align: middle;\n    }\n\n    .dataframe tbody tr th {\n        vertical-align: top;\n    }\n\n    .dataframe thead th {\n        text-align: right;\n    }\n</style>\n<table border=\"1\" class=\"dataframe\">\n  <thead>\n    <tr style=\"text-align: right;\">\n      <th></th>\n      <th>one_hot__Geography_France</th>\n      <th>one_hot__Geography_Germany</th>\n      <th>one_hot__Geography_Spain</th>\n      <th>one_hot__Gender_Female</th>\n      <th>one_hot__Gender_Male</th>\n      <th>remainder__CreditScore</th>\n      <th>remainder__Age</th>\n      <th>remainder__Tenure</th>\n      <th>remainder__Balance</th>\n      <th>remainder__NumOfProducts</th>\n      <th>remainder__HasCrCard</th>\n      <th>remainder__IsActiveMember</th>\n      <th>remainder__EstimatedSalary</th>\n      <th>remainder__Exited</th>\n    </tr>\n    <tr>\n      <th>id</th>\n      <th></th>\n      <th></th>\n      <th></th>\n      <th></th>\n      <th></th>\n      <th></th>\n      <th></th>\n      <th></th>\n      <th></th>\n      <th></th>\n      <th></th>\n      <th></th>\n      <th></th>\n      <th></th>\n    </tr>\n  </thead>\n  <tbody>\n    <tr>\n      <th>0</th>\n      <td>1</td>\n      <td>0</td>\n      <td>0</td>\n      <td>0</td>\n      <td>1</td>\n      <td>567.0</td>\n      <td>33.0</td>\n      <td>9.0</td>\n      <td>0.00</td>\n      <td>2.0</td>\n      <td>1.0</td>\n      <td>0.0</td>\n      <td>156792.89</td>\n      <td>0.0</td>\n    </tr>\n    <tr>\n      <th>1</th>\n      <td>1</td>\n      <td>0</td>\n      <td>0</td>\n      <td>1</td>\n      <td>0</td>\n      <td>628.0</td>\n      <td>38.0</td>\n      <td>3.0</td>\n      <td>0.00</td>\n      <td>1.0</td>\n      <td>1.0</td>\n      <td>1.0</td>\n      <td>51987.99</td>\n      <td>1.0</td>\n    </tr>\n    <tr>\n      <th>2</th>\n      <td>1</td>\n      <td>0</td>\n      <td>0</td>\n      <td>1</td>\n      <td>0</td>\n      <td>635.0</td>\n      <td>29.0</td>\n      <td>3.0</td>\n      <td>0.00</td>\n      <td>2.0</td>\n      <td>1.0</td>\n      <td>1.0</td>\n      <td>113079.19</td>\n      <td>0.0</td>\n    </tr>\n    <tr>\n      <th>3</th>\n      <td>1</td>\n      <td>0</td>\n      <td>0</td>\n      <td>0</td>\n      <td>1</td>\n      <td>681.0</td>\n      <td>28.0</td>\n      <td>6.0</td>\n      <td>0.00</td>\n      <td>2.0</td>\n      <td>1.0</td>\n      <td>0.0</td>\n      <td>14081.64</td>\n      <td>0.0</td>\n    </tr>\n    <tr>\n      <th>4</th>\n      <td>1</td>\n      <td>0</td>\n      <td>0</td>\n      <td>1</td>\n      <td>0</td>\n      <td>587.0</td>\n      <td>27.0</td>\n      <td>5.0</td>\n      <td>0.00</td>\n      <td>2.0</td>\n      <td>1.0</td>\n      <td>0.0</td>\n      <td>158958.90</td>\n      <td>0.0</td>\n    </tr>\n    <tr>\n      <th>...</th>\n      <td>...</td>\n      <td>...</td>\n      <td>...</td>\n      <td>...</td>\n      <td>...</td>\n      <td>...</td>\n      <td>...</td>\n      <td>...</td>\n      <td>...</td>\n      <td>...</td>\n      <td>...</td>\n      <td>...</td>\n      <td>...</td>\n      <td>...</td>\n    </tr>\n    <tr>\n      <th>14995</th>\n      <td>1</td>\n      <td>0</td>\n      <td>0</td>\n      <td>0</td>\n      <td>1</td>\n      <td>581.0</td>\n      <td>35.0</td>\n      <td>1.0</td>\n      <td>0.00</td>\n      <td>2.0</td>\n      <td>1.0</td>\n      <td>0.0</td>\n      <td>161653.50</td>\n      <td>0.0</td>\n    </tr>\n    <tr>\n      <th>14996</th>\n      <td>0</td>\n      <td>1</td>\n      <td>0</td>\n      <td>0</td>\n      <td>1</td>\n      <td>806.0</td>\n      <td>42.0</td>\n      <td>1.0</td>\n      <td>129120.64</td>\n      <td>2.0</td>\n      <td>1.0</td>\n      <td>1.0</td>\n      <td>161642.08</td>\n      <td>0.0</td>\n    </tr>\n    <tr>\n      <th>14997</th>\n      <td>1</td>\n      <td>0</td>\n      <td>0</td>\n      <td>1</td>\n      <td>0</td>\n      <td>620.0</td>\n      <td>29.0</td>\n      <td>7.0</td>\n      <td>0.00</td>\n      <td>2.0</td>\n      <td>1.0</td>\n      <td>1.0</td>\n      <td>161579.85</td>\n      <td>0.0</td>\n    </tr>\n    <tr>\n      <th>14998</th>\n      <td>0</td>\n      <td>1</td>\n      <td>0</td>\n      <td>0</td>\n      <td>1</td>\n      <td>622.0</td>\n      <td>51.0</td>\n      <td>6.0</td>\n      <td>106070.89</td>\n      <td>3.0</td>\n      <td>1.0</td>\n      <td>0.0</td>\n      <td>136869.31</td>\n      <td>1.0</td>\n    </tr>\n    <tr>\n      <th>14999</th>\n      <td>1</td>\n      <td>0</td>\n      <td>0</td>\n      <td>0</td>\n      <td>1</td>\n      <td>543.0</td>\n      <td>36.0</td>\n      <td>8.0</td>\n      <td>0.00</td>\n      <td>1.0</td>\n      <td>1.0</td>\n      <td>1.0</td>\n      <td>163568.33</td>\n      <td>0.0</td>\n    </tr>\n  </tbody>\n</table>\n<p>15000 rows × 14 columns</p>\n</div>"
          },
          "metadata": {}
        }
      ],
      "execution_count": null
    },
    {
      "cell_type": "code",
      "source": [
        "test_df = col_trans.fit_transform(test)\n",
        "test_df"
      ],
      "metadata": {
        "trusted": true,
        "execution": {
          "iopub.status.busy": "2025-03-23T11:56:03.663872Z",
          "iopub.execute_input": "2025-03-23T11:56:03.664176Z",
          "iopub.status.idle": "2025-03-23T11:56:03.697705Z",
          "shell.execute_reply.started": "2025-03-23T11:56:03.664151Z",
          "shell.execute_reply": "2025-03-23T11:56:03.696483Z"
        },
        "id": "IfLIjG8N7im5",
        "outputId": "9576cdbb-3804-4412-a5ae-d1c195307dc5"
      },
      "outputs": [
        {
          "execution_count": 215,
          "output_type": "execute_result",
          "data": {
            "text/plain": "       one_hot__Geography_France  one_hot__Geography_Germany  \\\nid                                                             \n15000                          0                           1   \n15001                          0                           1   \n15002                          0                           0   \n15003                          0                           0   \n15004                          0                           0   \n...                          ...                         ...   \n24995                          1                           0   \n24996                          1                           0   \n24997                          0                           0   \n24998                          1                           0   \n24999                          1                           0   \n\n       one_hot__Geography_Spain  one_hot__Gender_Female  one_hot__Gender_Male  \\\nid                                                                              \n15000                         0                       0                     1   \n15001                         0                       0                     1   \n15002                         1                       0                     1   \n15003                         1                       0                     1   \n15004                         1                       0                     1   \n...                         ...                     ...                   ...   \n24995                         0                       1                     0   \n24996                         0                       0                     1   \n24997                         1                       0                     1   \n24998                         0                       1                     0   \n24999                         0                       0                     1   \n\n       remainder__CreditScore  remainder__Age  remainder__Tenure  \\\nid                                                                 \n15000                   707.0            21.0                4.0   \n15001                   678.0            33.0                5.0   \n15002                   636.0            45.0                9.0   \n15003                   697.0            46.0                8.0   \n15004                   553.0            31.0                2.0   \n...                       ...             ...                ...   \n24995                   583.0            46.0                4.0   \n24996                   513.0            42.0                4.0   \n24997                   559.0            52.0                7.0   \n24998                   811.0            30.0                7.0   \n24999                   591.0            41.0                3.0   \n\n       remainder__Balance  remainder__NumOfProducts  remainder__HasCrCard  \\\nid                                                                          \n15000           114513.66                       2.0                   1.0   \n15001           142510.50                       1.0                   0.0   \n15002                0.00                       2.0                   1.0   \n15003                0.00                       2.0                   1.0   \n15004                0.00                       2.0                   1.0   \n...                   ...                       ...                   ...   \n24995                0.00                       2.0                   1.0   \n24996           148159.71                       2.0                   1.0   \n24997           117561.49                       3.0                   1.0   \n24998                0.00                       2.0                   1.0   \n24999            79871.02                       1.0                   1.0   \n\n       remainder__IsActiveMember  remainder__EstimatedSalary  \nid                                                            \n15000                        0.0                   176692.87  \n15001                        0.0                    52820.13  \n15002                        1.0                   125062.02  \n15003                        0.0                   131647.41  \n15004                        0.0                    58814.41  \n...                          ...                         ...  \n24995                        1.0                   175071.29  \n24996                        1.0                   149740.22  \n24997                        0.0                   163534.36  \n24998                        1.0                   104786.59  \n24999                        0.0                   136983.77  \n\n[10000 rows x 13 columns]",
            "text/html": "<div>\n<style scoped>\n    .dataframe tbody tr th:only-of-type {\n        vertical-align: middle;\n    }\n\n    .dataframe tbody tr th {\n        vertical-align: top;\n    }\n\n    .dataframe thead th {\n        text-align: right;\n    }\n</style>\n<table border=\"1\" class=\"dataframe\">\n  <thead>\n    <tr style=\"text-align: right;\">\n      <th></th>\n      <th>one_hot__Geography_France</th>\n      <th>one_hot__Geography_Germany</th>\n      <th>one_hot__Geography_Spain</th>\n      <th>one_hot__Gender_Female</th>\n      <th>one_hot__Gender_Male</th>\n      <th>remainder__CreditScore</th>\n      <th>remainder__Age</th>\n      <th>remainder__Tenure</th>\n      <th>remainder__Balance</th>\n      <th>remainder__NumOfProducts</th>\n      <th>remainder__HasCrCard</th>\n      <th>remainder__IsActiveMember</th>\n      <th>remainder__EstimatedSalary</th>\n    </tr>\n    <tr>\n      <th>id</th>\n      <th></th>\n      <th></th>\n      <th></th>\n      <th></th>\n      <th></th>\n      <th></th>\n      <th></th>\n      <th></th>\n      <th></th>\n      <th></th>\n      <th></th>\n      <th></th>\n      <th></th>\n    </tr>\n  </thead>\n  <tbody>\n    <tr>\n      <th>15000</th>\n      <td>0</td>\n      <td>1</td>\n      <td>0</td>\n      <td>0</td>\n      <td>1</td>\n      <td>707.0</td>\n      <td>21.0</td>\n      <td>4.0</td>\n      <td>114513.66</td>\n      <td>2.0</td>\n      <td>1.0</td>\n      <td>0.0</td>\n      <td>176692.87</td>\n    </tr>\n    <tr>\n      <th>15001</th>\n      <td>0</td>\n      <td>1</td>\n      <td>0</td>\n      <td>0</td>\n      <td>1</td>\n      <td>678.0</td>\n      <td>33.0</td>\n      <td>5.0</td>\n      <td>142510.50</td>\n      <td>1.0</td>\n      <td>0.0</td>\n      <td>0.0</td>\n      <td>52820.13</td>\n    </tr>\n    <tr>\n      <th>15002</th>\n      <td>0</td>\n      <td>0</td>\n      <td>1</td>\n      <td>0</td>\n      <td>1</td>\n      <td>636.0</td>\n      <td>45.0</td>\n      <td>9.0</td>\n      <td>0.00</td>\n      <td>2.0</td>\n      <td>1.0</td>\n      <td>1.0</td>\n      <td>125062.02</td>\n    </tr>\n    <tr>\n      <th>15003</th>\n      <td>0</td>\n      <td>0</td>\n      <td>1</td>\n      <td>0</td>\n      <td>1</td>\n      <td>697.0</td>\n      <td>46.0</td>\n      <td>8.0</td>\n      <td>0.00</td>\n      <td>2.0</td>\n      <td>1.0</td>\n      <td>0.0</td>\n      <td>131647.41</td>\n    </tr>\n    <tr>\n      <th>15004</th>\n      <td>0</td>\n      <td>0</td>\n      <td>1</td>\n      <td>0</td>\n      <td>1</td>\n      <td>553.0</td>\n      <td>31.0</td>\n      <td>2.0</td>\n      <td>0.00</td>\n      <td>2.0</td>\n      <td>1.0</td>\n      <td>0.0</td>\n      <td>58814.41</td>\n    </tr>\n    <tr>\n      <th>...</th>\n      <td>...</td>\n      <td>...</td>\n      <td>...</td>\n      <td>...</td>\n      <td>...</td>\n      <td>...</td>\n      <td>...</td>\n      <td>...</td>\n      <td>...</td>\n      <td>...</td>\n      <td>...</td>\n      <td>...</td>\n      <td>...</td>\n    </tr>\n    <tr>\n      <th>24995</th>\n      <td>1</td>\n      <td>0</td>\n      <td>0</td>\n      <td>1</td>\n      <td>0</td>\n      <td>583.0</td>\n      <td>46.0</td>\n      <td>4.0</td>\n      <td>0.00</td>\n      <td>2.0</td>\n      <td>1.0</td>\n      <td>1.0</td>\n      <td>175071.29</td>\n    </tr>\n    <tr>\n      <th>24996</th>\n      <td>1</td>\n      <td>0</td>\n      <td>0</td>\n      <td>0</td>\n      <td>1</td>\n      <td>513.0</td>\n      <td>42.0</td>\n      <td>4.0</td>\n      <td>148159.71</td>\n      <td>2.0</td>\n      <td>1.0</td>\n      <td>1.0</td>\n      <td>149740.22</td>\n    </tr>\n    <tr>\n      <th>24997</th>\n      <td>0</td>\n      <td>0</td>\n      <td>1</td>\n      <td>0</td>\n      <td>1</td>\n      <td>559.0</td>\n      <td>52.0</td>\n      <td>7.0</td>\n      <td>117561.49</td>\n      <td>3.0</td>\n      <td>1.0</td>\n      <td>0.0</td>\n      <td>163534.36</td>\n    </tr>\n    <tr>\n      <th>24998</th>\n      <td>1</td>\n      <td>0</td>\n      <td>0</td>\n      <td>1</td>\n      <td>0</td>\n      <td>811.0</td>\n      <td>30.0</td>\n      <td>7.0</td>\n      <td>0.00</td>\n      <td>2.0</td>\n      <td>1.0</td>\n      <td>1.0</td>\n      <td>104786.59</td>\n    </tr>\n    <tr>\n      <th>24999</th>\n      <td>1</td>\n      <td>0</td>\n      <td>0</td>\n      <td>0</td>\n      <td>1</td>\n      <td>591.0</td>\n      <td>41.0</td>\n      <td>3.0</td>\n      <td>79871.02</td>\n      <td>1.0</td>\n      <td>1.0</td>\n      <td>0.0</td>\n      <td>136983.77</td>\n    </tr>\n  </tbody>\n</table>\n<p>10000 rows × 13 columns</p>\n</div>"
          },
          "metadata": {}
        }
      ],
      "execution_count": null
    },
    {
      "cell_type": "code",
      "source": [
        "trans_df.describe()\n"
      ],
      "metadata": {
        "trusted": true,
        "execution": {
          "iopub.status.busy": "2025-03-23T11:56:03.698942Z",
          "iopub.execute_input": "2025-03-23T11:56:03.699321Z",
          "iopub.status.idle": "2025-03-23T11:56:03.751024Z",
          "shell.execute_reply.started": "2025-03-23T11:56:03.699292Z",
          "shell.execute_reply": "2025-03-23T11:56:03.749886Z"
        },
        "id": "J36UaVQs7im5",
        "outputId": "e6c8f972-b081-4425-ee46-6ab1b6333eca"
      },
      "outputs": [
        {
          "execution_count": 216,
          "output_type": "execute_result",
          "data": {
            "text/plain": "       one_hot__Geography_France  one_hot__Geography_Germany  \\\ncount               15000.000000                15000.000000   \nmean                    0.602667                    0.178667   \nstd                     0.489362                    0.383086   \nmin                     0.000000                    0.000000   \n25%                     0.000000                    0.000000   \n50%                     1.000000                    0.000000   \n75%                     1.000000                    0.000000   \nmax                     1.000000                    1.000000   \n\n       one_hot__Geography_Spain  one_hot__Gender_Female  one_hot__Gender_Male  \\\ncount              15000.000000            15000.000000          15000.000000   \nmean                   0.218667                0.434800              0.565200   \nstd                    0.413356                0.495747              0.495747   \nmin                    0.000000                0.000000              0.000000   \n25%                    0.000000                0.000000              0.000000   \n50%                    0.000000                0.000000              1.000000   \n75%                    0.000000                1.000000              1.000000   \nmax                    1.000000                1.000000              1.000000   \n\n       remainder__CreditScore  remainder__Age  remainder__Tenure  \\\ncount            15000.000000    15000.000000       15000.000000   \nmean               657.856800       37.710133           5.018667   \nstd                 72.678739        8.144880           2.787407   \nmin                431.000000       18.000000           0.000000   \n25%                602.000000       32.000000           3.000000   \n50%                661.000000       37.000000           5.000000   \n75%                707.000000       42.000000           7.000000   \nmax                850.000000       72.000000          10.000000   \n\n       remainder__Balance  remainder__NumOfProducts  remainder__HasCrCard  \\\ncount        15000.000000              15000.000000          15000.000000   \nmean         42338.107539                  1.590533              0.779133   \nstd          59703.047751                  0.525822              0.414845   \nmin              0.000000                  1.000000              0.000000   \n25%              0.000000                  1.000000              1.000000   \n50%              0.000000                  2.000000              1.000000   \n75%         109636.342500                  2.000000              1.000000   \nmax         187911.550000                  5.000000              1.000000   \n\n       remainder__IsActiveMember  remainder__EstimatedSalary  \\\ncount               15000.000000                15000.000000   \nmean                    0.496000               116944.059867   \nstd                     0.500001                46047.485455   \nmin                     0.000000                   11.580000   \n25%                     0.000000                82644.332500   \n50%                     0.000000               122449.420000   \n75%                     1.000000               155703.022500   \nmax                     1.000000               885120.790000   \n\n       remainder__Exited  \ncount       15000.000000  \nmean            0.198467  \nstd             0.398859  \nmin             0.000000  \n25%             0.000000  \n50%             0.000000  \n75%             0.000000  \nmax             1.000000  ",
            "text/html": "<div>\n<style scoped>\n    .dataframe tbody tr th:only-of-type {\n        vertical-align: middle;\n    }\n\n    .dataframe tbody tr th {\n        vertical-align: top;\n    }\n\n    .dataframe thead th {\n        text-align: right;\n    }\n</style>\n<table border=\"1\" class=\"dataframe\">\n  <thead>\n    <tr style=\"text-align: right;\">\n      <th></th>\n      <th>one_hot__Geography_France</th>\n      <th>one_hot__Geography_Germany</th>\n      <th>one_hot__Geography_Spain</th>\n      <th>one_hot__Gender_Female</th>\n      <th>one_hot__Gender_Male</th>\n      <th>remainder__CreditScore</th>\n      <th>remainder__Age</th>\n      <th>remainder__Tenure</th>\n      <th>remainder__Balance</th>\n      <th>remainder__NumOfProducts</th>\n      <th>remainder__HasCrCard</th>\n      <th>remainder__IsActiveMember</th>\n      <th>remainder__EstimatedSalary</th>\n      <th>remainder__Exited</th>\n    </tr>\n  </thead>\n  <tbody>\n    <tr>\n      <th>count</th>\n      <td>15000.000000</td>\n      <td>15000.000000</td>\n      <td>15000.000000</td>\n      <td>15000.000000</td>\n      <td>15000.000000</td>\n      <td>15000.000000</td>\n      <td>15000.000000</td>\n      <td>15000.000000</td>\n      <td>15000.000000</td>\n      <td>15000.000000</td>\n      <td>15000.000000</td>\n      <td>15000.000000</td>\n      <td>15000.000000</td>\n      <td>15000.000000</td>\n    </tr>\n    <tr>\n      <th>mean</th>\n      <td>0.602667</td>\n      <td>0.178667</td>\n      <td>0.218667</td>\n      <td>0.434800</td>\n      <td>0.565200</td>\n      <td>657.856800</td>\n      <td>37.710133</td>\n      <td>5.018667</td>\n      <td>42338.107539</td>\n      <td>1.590533</td>\n      <td>0.779133</td>\n      <td>0.496000</td>\n      <td>116944.059867</td>\n      <td>0.198467</td>\n    </tr>\n    <tr>\n      <th>std</th>\n      <td>0.489362</td>\n      <td>0.383086</td>\n      <td>0.413356</td>\n      <td>0.495747</td>\n      <td>0.495747</td>\n      <td>72.678739</td>\n      <td>8.144880</td>\n      <td>2.787407</td>\n      <td>59703.047751</td>\n      <td>0.525822</td>\n      <td>0.414845</td>\n      <td>0.500001</td>\n      <td>46047.485455</td>\n      <td>0.398859</td>\n    </tr>\n    <tr>\n      <th>min</th>\n      <td>0.000000</td>\n      <td>0.000000</td>\n      <td>0.000000</td>\n      <td>0.000000</td>\n      <td>0.000000</td>\n      <td>431.000000</td>\n      <td>18.000000</td>\n      <td>0.000000</td>\n      <td>0.000000</td>\n      <td>1.000000</td>\n      <td>0.000000</td>\n      <td>0.000000</td>\n      <td>11.580000</td>\n      <td>0.000000</td>\n    </tr>\n    <tr>\n      <th>25%</th>\n      <td>0.000000</td>\n      <td>0.000000</td>\n      <td>0.000000</td>\n      <td>0.000000</td>\n      <td>0.000000</td>\n      <td>602.000000</td>\n      <td>32.000000</td>\n      <td>3.000000</td>\n      <td>0.000000</td>\n      <td>1.000000</td>\n      <td>1.000000</td>\n      <td>0.000000</td>\n      <td>82644.332500</td>\n      <td>0.000000</td>\n    </tr>\n    <tr>\n      <th>50%</th>\n      <td>1.000000</td>\n      <td>0.000000</td>\n      <td>0.000000</td>\n      <td>0.000000</td>\n      <td>1.000000</td>\n      <td>661.000000</td>\n      <td>37.000000</td>\n      <td>5.000000</td>\n      <td>0.000000</td>\n      <td>2.000000</td>\n      <td>1.000000</td>\n      <td>0.000000</td>\n      <td>122449.420000</td>\n      <td>0.000000</td>\n    </tr>\n    <tr>\n      <th>75%</th>\n      <td>1.000000</td>\n      <td>0.000000</td>\n      <td>0.000000</td>\n      <td>1.000000</td>\n      <td>1.000000</td>\n      <td>707.000000</td>\n      <td>42.000000</td>\n      <td>7.000000</td>\n      <td>109636.342500</td>\n      <td>2.000000</td>\n      <td>1.000000</td>\n      <td>1.000000</td>\n      <td>155703.022500</td>\n      <td>0.000000</td>\n    </tr>\n    <tr>\n      <th>max</th>\n      <td>1.000000</td>\n      <td>1.000000</td>\n      <td>1.000000</td>\n      <td>1.000000</td>\n      <td>1.000000</td>\n      <td>850.000000</td>\n      <td>72.000000</td>\n      <td>10.000000</td>\n      <td>187911.550000</td>\n      <td>5.000000</td>\n      <td>1.000000</td>\n      <td>1.000000</td>\n      <td>885120.790000</td>\n      <td>1.000000</td>\n    </tr>\n  </tbody>\n</table>\n</div>"
          },
          "metadata": {}
        }
      ],
      "execution_count": null
    },
    {
      "cell_type": "code",
      "source": [
        "from sklearn.model_selection import train_test_split\n",
        "from sklearn.ensemble import StackingClassifier, RandomForestClassifier, GradientBoostingClassifier\n",
        "from sklearn.linear_model import LogisticRegression\n",
        "from sklearn.neighbors import KNeighborsClassifier\n",
        "from sklearn.svm import SVC\n",
        "from sklearn.metrics import classification_report, accuracy_score, roc_auc_score"
      ],
      "metadata": {
        "trusted": true,
        "execution": {
          "iopub.status.busy": "2025-03-23T11:56:03.752242Z",
          "iopub.execute_input": "2025-03-23T11:56:03.752642Z",
          "iopub.status.idle": "2025-03-23T11:56:03.759037Z",
          "shell.execute_reply.started": "2025-03-23T11:56:03.752603Z",
          "shell.execute_reply": "2025-03-23T11:56:03.757906Z"
        },
        "id": "SoucYtT17im5"
      },
      "outputs": [],
      "execution_count": null
    },
    {
      "cell_type": "code",
      "source": [
        "model_RF = RandomForestClassifier(n_estimators=100, max_depth=5, random_state=42)\n",
        "model_GB = GradientBoostingClassifier(n_estimators=100, learning_rate=0.1, max_depth=3, random_state=42)\n",
        "model_KNN = KNeighborsClassifier(n_neighbors=5)\n",
        "model_SVC = SVC(probability=True, kernel='rbf', C=1.0)\n",
        "model_LR = LogisticRegression()\n",
        "\n",
        "models = [model_LR, model_SVC, model_KNN, model_GB, model_RF]"
      ],
      "metadata": {
        "trusted": true,
        "execution": {
          "iopub.status.busy": "2025-03-23T11:56:03.760669Z",
          "iopub.execute_input": "2025-03-23T11:56:03.761147Z",
          "iopub.status.idle": "2025-03-23T11:56:03.778693Z",
          "shell.execute_reply.started": "2025-03-23T11:56:03.761106Z",
          "shell.execute_reply": "2025-03-23T11:56:03.777236Z"
        },
        "id": "5R65uDDG7im6"
      },
      "outputs": [],
      "execution_count": null
    },
    {
      "cell_type": "code",
      "source": [
        "X_train = trans_df.drop(['remainder__Exited'], axis=1).copy()\n",
        "y_train = trans_df['remainder__Exited'].copy()\n",
        "X_test = test_df"
      ],
      "metadata": {
        "trusted": true,
        "execution": {
          "iopub.status.busy": "2025-03-23T11:56:03.780106Z",
          "iopub.execute_input": "2025-03-23T11:56:03.780426Z",
          "iopub.status.idle": "2025-03-23T11:56:03.803174Z",
          "shell.execute_reply.started": "2025-03-23T11:56:03.780398Z",
          "shell.execute_reply": "2025-03-23T11:56:03.802059Z"
        },
        "id": "CCxggMvk7im6"
      },
      "outputs": [],
      "execution_count": null
    },
    {
      "cell_type": "code",
      "source": [
        "for model in models:\n",
        "    model.fit(X_train, y_train)  # Fit using training data\n",
        "    y_pred_train = model.predict(X_train)  # Predict on training data\n",
        "    y_pred_test = model.predict(X_test)  # Predict on test data\n",
        "\n",
        "    print(f\"Model: {model}\\n\")\n",
        "    print(f\"Accuracy on Training Data: {accuracy_score(y_train, y_pred_train)}\\n\")  # Evaluate on training data\n"
      ],
      "metadata": {
        "trusted": true,
        "execution": {
          "iopub.status.busy": "2025-03-23T11:56:03.804458Z",
          "iopub.execute_input": "2025-03-23T11:56:03.804866Z",
          "iopub.status.idle": "2025-03-23T11:56:49.91991Z",
          "shell.execute_reply.started": "2025-03-23T11:56:03.804827Z",
          "shell.execute_reply": "2025-03-23T11:56:49.918678Z"
        },
        "id": "NVnIqLLf7im7",
        "outputId": "79556d62-6c4e-472a-ea27-49be8232e9c6"
      },
      "outputs": [
        {
          "name": "stdout",
          "text": "Model: LogisticRegression()\n\nAccuracy on Training Data: 0.8268\n\nModel: SVC(probability=True)\n\nAccuracy on Training Data: 0.8015333333333333\n\nModel: KNeighborsClassifier()\n\nAccuracy on Training Data: 0.8246666666666667\n\nModel: GradientBoostingClassifier(random_state=42)\n\nAccuracy on Training Data: 0.9024666666666666\n\nModel: RandomForestClassifier(max_depth=5, random_state=42)\n\nAccuracy on Training Data: 0.8838\n\n",
          "output_type": "stream"
        }
      ],
      "execution_count": null
    },
    {
      "cell_type": "code",
      "source": [
        "for model in models:\n",
        "  model.fit(X_train, y_train)\n",
        "  y_pred = model.predict(X_train)\n",
        "\n",
        "  print(f\"Model: {model} \\n\")\n",
        "  print(f\"Accuracy: {accuracy_score(y_train, y_pred)} \\n\")\n",
        "  print(f\"Classification Report: {classification_report(y_train, y_pred)}\")\n",
        "  print(\"  \"*25)\n",
        "  print(\"*\"*25)\n",
        "  print(\"  \"*25)"
      ],
      "metadata": {
        "trusted": true,
        "execution": {
          "iopub.status.busy": "2025-03-23T11:56:49.921083Z",
          "iopub.execute_input": "2025-03-23T11:56:49.921428Z",
          "iopub.status.idle": "2025-03-23T11:57:31.092561Z",
          "shell.execute_reply.started": "2025-03-23T11:56:49.921389Z",
          "shell.execute_reply": "2025-03-23T11:57:31.091122Z"
        },
        "id": "TTuVnOM97im7",
        "outputId": "753d3608-faa6-47af-d231-85be089bdeea"
      },
      "outputs": [
        {
          "name": "stdout",
          "text": "Model: LogisticRegression() \n\nAccuracy: 0.8268 \n\nClassification Report:               precision    recall  f1-score   support\n\n         0.0       0.85      0.96      0.90     12023\n         1.0       0.64      0.29      0.40      2977\n\n    accuracy                           0.83     15000\n   macro avg       0.74      0.62      0.65     15000\nweighted avg       0.80      0.83      0.80     15000\n\n                                                  \n*************************\n                                                  \nModel: SVC(probability=True) \n\nAccuracy: 0.8015333333333333 \n\nClassification Report:               precision    recall  f1-score   support\n\n         0.0       0.80      1.00      0.89     12023\n         1.0       0.00      0.00      0.00      2977\n\n    accuracy                           0.80     15000\n   macro avg       0.40      0.50      0.44     15000\nweighted avg       0.64      0.80      0.71     15000\n\n                                                  \n*************************\n                                                  \n",
          "output_type": "stream"
        },
        {
          "name": "stderr",
          "text": "/usr/local/lib/python3.10/dist-packages/sklearn/metrics/_classification.py:1344: UndefinedMetricWarning: Precision and F-score are ill-defined and being set to 0.0 in labels with no predicted samples. Use `zero_division` parameter to control this behavior.\n  _warn_prf(average, modifier, msg_start, len(result))\n/usr/local/lib/python3.10/dist-packages/sklearn/metrics/_classification.py:1344: UndefinedMetricWarning: Precision and F-score are ill-defined and being set to 0.0 in labels with no predicted samples. Use `zero_division` parameter to control this behavior.\n  _warn_prf(average, modifier, msg_start, len(result))\n/usr/local/lib/python3.10/dist-packages/sklearn/metrics/_classification.py:1344: UndefinedMetricWarning: Precision and F-score are ill-defined and being set to 0.0 in labels with no predicted samples. Use `zero_division` parameter to control this behavior.\n  _warn_prf(average, modifier, msg_start, len(result))\n",
          "output_type": "stream"
        },
        {
          "name": "stdout",
          "text": "Model: KNeighborsClassifier() \n\nAccuracy: 0.8246666666666667 \n\nClassification Report:               precision    recall  f1-score   support\n\n         0.0       0.84      0.97      0.90     12023\n         1.0       0.66      0.24      0.36      2977\n\n    accuracy                           0.82     15000\n   macro avg       0.75      0.61      0.63     15000\nweighted avg       0.80      0.82      0.79     15000\n\n                                                  \n*************************\n                                                  \nModel: GradientBoostingClassifier(random_state=42) \n\nAccuracy: 0.9024666666666666 \n\nClassification Report:               precision    recall  f1-score   support\n\n         0.0       0.92      0.96      0.94     12023\n         1.0       0.81      0.66      0.73      2977\n\n    accuracy                           0.90     15000\n   macro avg       0.87      0.81      0.83     15000\nweighted avg       0.90      0.90      0.90     15000\n\n                                                  \n*************************\n                                                  \nModel: RandomForestClassifier(max_depth=5, random_state=42) \n\nAccuracy: 0.8838 \n\nClassification Report:               precision    recall  f1-score   support\n\n         0.0       0.89      0.98      0.93     12023\n         1.0       0.84      0.51      0.64      2977\n\n    accuracy                           0.88     15000\n   macro avg       0.86      0.74      0.78     15000\nweighted avg       0.88      0.88      0.87     15000\n\n                                                  \n*************************\n                                                  \n",
          "output_type": "stream"
        }
      ],
      "execution_count": null
    },
    {
      "cell_type": "code",
      "source": [
        "base_models = [\n",
        "    ('rf', RandomForestClassifier(n_estimators=100, max_depth=5, random_state=42)),  # Cheklangan chuqurlik\n",
        "    ('gb', GradientBoostingClassifier(n_estimators=100, learning_rate=0.1, max_depth=3, random_state=42)),  # Katta emas\n",
        "    ('knn', KNeighborsClassifier(n_neighbors=5)),\n",
        "    ('svc', SVC(probability=True, kernel='rbf', C=1.0))\n",
        "]\n",
        "\n",
        "meta_model = LogisticRegression()\n",
        "\n",
        "stacking_model = StackingClassifier(estimators=base_models, final_estimator=meta_model, cv=5)"
      ],
      "metadata": {
        "trusted": true,
        "execution": {
          "iopub.status.busy": "2025-03-23T11:57:31.096979Z",
          "iopub.execute_input": "2025-03-23T11:57:31.097271Z",
          "iopub.status.idle": "2025-03-23T11:57:31.103485Z",
          "shell.execute_reply.started": "2025-03-23T11:57:31.097247Z",
          "shell.execute_reply": "2025-03-23T11:57:31.102273Z"
        },
        "id": "sdO95gcD7im8"
      },
      "outputs": [],
      "execution_count": null
    },
    {
      "cell_type": "code",
      "source": [
        "stacking_model.fit(X_train, y_train)\n",
        "\n",
        "#train data uchun test\n",
        "y_pred = stacking_model.predict(X_train)\n",
        "accuracy = accuracy_score(y_train, y_pred)\n",
        "print(f\"Stacking model accuracy: {accuracy:.4f}\")"
      ],
      "metadata": {
        "trusted": true,
        "execution": {
          "iopub.status.busy": "2025-03-23T11:57:31.104716Z",
          "iopub.execute_input": "2025-03-23T11:57:31.105094Z",
          "iopub.status.idle": "2025-03-23T12:00:10.159026Z",
          "shell.execute_reply.started": "2025-03-23T11:57:31.105067Z",
          "shell.execute_reply": "2025-03-23T12:00:10.157898Z"
        },
        "id": "GlUC-cAd7im8",
        "outputId": "590681ea-b95a-4167-ff46-f703200bfee9"
      },
      "outputs": [
        {
          "name": "stdout",
          "text": "Stacking model accuracy: 0.9023\n",
          "output_type": "stream"
        }
      ],
      "execution_count": null
    },
    {
      "cell_type": "code",
      "source": [
        "#Train uchun ROC AUC Score\n",
        "y_proba_train = stacking_model.predict_proba(X_train)[:, 1]\n",
        "roc_auc = roc_auc_score(y_train, y_proba_train)\n",
        "print(f\"ROC AUC Score: {roc_auc:.4f}\")"
      ],
      "metadata": {
        "trusted": true,
        "execution": {
          "iopub.status.busy": "2025-03-23T12:00:10.160149Z",
          "iopub.execute_input": "2025-03-23T12:00:10.160546Z",
          "iopub.status.idle": "2025-03-23T12:00:15.685948Z",
          "shell.execute_reply.started": "2025-03-23T12:00:10.160505Z",
          "shell.execute_reply": "2025-03-23T12:00:15.684727Z"
        },
        "id": "5YeMlmdM7im8",
        "outputId": "610433ad-daf7-4967-9c55-aa35594da189"
      },
      "outputs": [
        {
          "name": "stdout",
          "text": "ROC AUC Score: 0.9443\n",
          "output_type": "stream"
        }
      ],
      "execution_count": null
    },
    {
      "cell_type": "code",
      "source": [
        "from sklearn.metrics import accuracy_score\n",
        "\n",
        "# ... (your existing code for model training and prediction) ...\n",
        "\n",
        "y_pred_test = stacking_model.predict(X_test) # Predict labels for the test set\n",
        "\n",
        "accuracy = accuracy_score(y_pred_test, y_pred_test)\n",
        "\n",
        "print(f\"Test Accuracy: {accuracy:.4f}\")"
      ],
      "metadata": {
        "trusted": true,
        "execution": {
          "iopub.status.busy": "2025-03-23T12:00:15.687307Z",
          "iopub.execute_input": "2025-03-23T12:00:15.687809Z",
          "iopub.status.idle": "2025-03-23T12:00:19.372453Z",
          "shell.execute_reply.started": "2025-03-23T12:00:15.687746Z",
          "shell.execute_reply": "2025-03-23T12:00:19.371256Z"
        },
        "id": "JdRtKk4I7im-",
        "outputId": "f3d4d1ed-7cb4-4efc-89b7-b65a1ba474dc"
      },
      "outputs": [
        {
          "name": "stdout",
          "text": "Test Accuracy: 1.0000\n",
          "output_type": "stream"
        }
      ],
      "execution_count": null
    },
    {
      "cell_type": "code",
      "source": [
        "y_stack_pred = stacking_model.predict_proba(X_test)[:, 1]\n",
        "y_stack_pred"
      ],
      "metadata": {
        "trusted": true,
        "execution": {
          "iopub.status.busy": "2025-03-23T12:00:19.373515Z",
          "iopub.execute_input": "2025-03-23T12:00:19.373873Z",
          "iopub.status.idle": "2025-03-23T12:00:23.030103Z",
          "shell.execute_reply.started": "2025-03-23T12:00:19.373843Z",
          "shell.execute_reply": "2025-03-23T12:00:23.028797Z"
        },
        "id": "JFjV0g2T7im-",
        "outputId": "f380edb8-93f9-400d-c2c1-78f1179100d9"
      },
      "outputs": [
        {
          "execution_count": 226,
          "output_type": "execute_result",
          "data": {
            "text/plain": "array([0.07331136, 0.12111469, 0.04149053, ..., 0.96652861, 0.03056558,\n       0.09522593])"
          },
          "metadata": {}
        }
      ],
      "execution_count": null
    },
    {
      "cell_type": "code",
      "source": [
        "import pandas as pd\n",
        "import numpy as np\n",
        "\n",
        "# Assuming y_stack_pred contains your predictions\n",
        "ans = pd.DataFrame(y_stack_pred, columns=['Exited'])\n",
        "\n",
        "ans['id'] = np.arange(15000, 25000)  # Add 'id' column\n",
        "ans = ans.set_index('id')  # Set 'id' as index\n",
        "\n",
        "ans.to_csv('predict_4.csv', index=True)  # Save with index\n",
        "ans"
      ],
      "metadata": {
        "trusted": true,
        "execution": {
          "iopub.status.busy": "2025-03-23T12:00:23.030916Z",
          "iopub.execute_input": "2025-03-23T12:00:23.031201Z",
          "iopub.status.idle": "2025-03-23T12:00:23.069539Z",
          "shell.execute_reply.started": "2025-03-23T12:00:23.031174Z",
          "shell.execute_reply": "2025-03-23T12:00:23.068392Z"
        },
        "id": "D8fLPBLP7im_",
        "outputId": "e132e4e1-07f2-4bd9-e563-9cf8491ff0aa"
      },
      "outputs": [
        {
          "execution_count": 227,
          "output_type": "execute_result",
          "data": {
            "text/plain": "         Exited\nid             \n15000  0.073311\n15001  0.121115\n15002  0.041491\n15003  0.087270\n15004  0.030106\n...         ...\n24995  0.073565\n24996  0.055711\n24997  0.966529\n24998  0.030566\n24999  0.095226\n\n[10000 rows x 1 columns]",
            "text/html": "<div>\n<style scoped>\n    .dataframe tbody tr th:only-of-type {\n        vertical-align: middle;\n    }\n\n    .dataframe tbody tr th {\n        vertical-align: top;\n    }\n\n    .dataframe thead th {\n        text-align: right;\n    }\n</style>\n<table border=\"1\" class=\"dataframe\">\n  <thead>\n    <tr style=\"text-align: right;\">\n      <th></th>\n      <th>Exited</th>\n    </tr>\n    <tr>\n      <th>id</th>\n      <th></th>\n    </tr>\n  </thead>\n  <tbody>\n    <tr>\n      <th>15000</th>\n      <td>0.073311</td>\n    </tr>\n    <tr>\n      <th>15001</th>\n      <td>0.121115</td>\n    </tr>\n    <tr>\n      <th>15002</th>\n      <td>0.041491</td>\n    </tr>\n    <tr>\n      <th>15003</th>\n      <td>0.087270</td>\n    </tr>\n    <tr>\n      <th>15004</th>\n      <td>0.030106</td>\n    </tr>\n    <tr>\n      <th>...</th>\n      <td>...</td>\n    </tr>\n    <tr>\n      <th>24995</th>\n      <td>0.073565</td>\n    </tr>\n    <tr>\n      <th>24996</th>\n      <td>0.055711</td>\n    </tr>\n    <tr>\n      <th>24997</th>\n      <td>0.966529</td>\n    </tr>\n    <tr>\n      <th>24998</th>\n      <td>0.030566</td>\n    </tr>\n    <tr>\n      <th>24999</th>\n      <td>0.095226</td>\n    </tr>\n  </tbody>\n</table>\n<p>10000 rows × 1 columns</p>\n</div>"
          },
          "metadata": {}
        }
      ],
      "execution_count": null
    },
    {
      "cell_type": "code",
      "source": [
        "import pandas as pd\n",
        "from sklearn.model_selection import train_test_split\n",
        "from sklearn.metrics import accuracy_score\n",
        "\n",
        "# Load training data\n",
        "train_data = pd.read_csv('/kaggle/input/binaryclassificationwithabankchurndataset/train.csv', index_col='id')\n",
        "  # Replace 'train.csv' with your training data file\n",
        "X = train_data[['CreditScore', 'Age',\t'Tenure',\t'Balance',\t'NumOfProducts',\t'HasCrCard',\t'IsActiveMember',\t'EstimatedSalary']]  # Select feature columns\n",
        "y = train_data['Exited']  # Select target variable column\n",
        "\n",
        "# Split training data into training and validation sets\n",
        "X_train, X_val, y_train, y_val = train_test_split(X, y, test_size=0.2, random_state=42)  # 80% train, 20% validation\n",
        "\n",
        "# Train your model on the training set\n",
        "stacking_model.fit(X_train, y_train)\n",
        "\n",
        "# Evaluate on the validation set\n",
        "y_pred_val = stacking_model.predict(X_val)\n",
        "val_accuracy = accuracy_score(y_val, y_pred_val)\n",
        "print(f\"Validation Accuracy: {val_accuracy:.4f}\")\n",
        "\n",
        "# If satisfied with validation performance, train on the full training data\n",
        "# and predict on the test data for submission\n",
        "stacking_model.fit(X, y)  # Train on full training data\n",
        "\n",
        "# Load test data\n",
        "test_data = pd.read_csv('/kaggle/input/binaryclassificationwithabankchurndataset/train.csv', index_col='id')  # Replace 'test.csv' with your test data file\n",
        "X_test = test_data[['CreditScore', 'Age',\t'Tenure',\t'Balance',\t'NumOfProducts',\t'HasCrCard',\t'IsActiveMember',\t'EstimatedSalary']]  # Select feature columns # Select feature columns\n",
        "\n",
        "# Predict on the test data\n",
        "y_pred_test = stacking_model.predict(X_test)\n",
        "\n",
        "# Create submission file\n",
        "submission_df = pd.DataFrame({'CreditScore': test_data['CreditScore'], 'excited': y_pred_test})  # Adjust column names\n",
        "submission_df.to_csv('submission.csv', index=False)"
      ],
      "metadata": {
        "trusted": true,
        "execution": {
          "iopub.status.busy": "2025-03-23T12:09:11.731627Z",
          "iopub.execute_input": "2025-03-23T12:09:11.73203Z",
          "iopub.status.idle": "2025-03-23T12:13:02.664302Z",
          "shell.execute_reply.started": "2025-03-23T12:09:11.732001Z",
          "shell.execute_reply": "2025-03-23T12:13:02.663145Z"
        },
        "id": "rpPAnaDV7im_",
        "outputId": "a0e84ea7-05ef-4eae-b37b-e48c1a82f4c6"
      },
      "outputs": [
        {
          "name": "stdout",
          "text": "Validation Accuracy: 0.8927\n",
          "output_type": "stream"
        }
      ],
      "execution_count": null
    }
  ]
}